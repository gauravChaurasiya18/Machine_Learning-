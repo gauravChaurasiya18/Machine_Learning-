{
 "cells": [
  {
   "cell_type": "markdown",
   "metadata": {},
   "source": [
    "**LogisticRegression** <br>\n",
    "Used for labelled dataset <br>\n",
    "Classificafication Model <br>\n",
    "Best for Binary Classification Problem <br>\n",
    "Uses sigmoid curve <br>\n",
    "y` = 1 / (1 + e ^ z )\n",
    "z = mx + c \n",
    "\n",
    "\n",
    "\n"
   ]
  },
  {
   "cell_type": "markdown",
   "metadata": {},
   "source": [
    "Logistic Regression:\n",
    "\n",
    "Picture4.png\n",
    "\n",
    "Y_hat --> predicted value\n",
    "\n",
    "X --> Input Variable\n",
    "\n",
    "w --> weight\n",
    "\n",
    "b --> bias\n",
    "\n",
    "Gradient Descent:\n",
    "\n",
    "Gradient Descent is an optimization algorithm used for minimizing the loss function in various machine learning algorithms. It is used for updating the parameters of the learning model.\n",
    "\n",
    "w = w - α*dw\n",
    "\n",
    "b = b - α*db\n",
    "\n",
    "Learning Rate:\n",
    "\n",
    "Learning rate is a tuning parameter in an optimization algorithm that determines the step size at each iteration while moving toward a minimum of a loss function.\n",
    "\n",
    "Derivatives:\n",
    "\n",
    "Picture3.png\n",
    "\n",
    "Importing the Dependencies"
   ]
  },
  {
   "cell_type": "code",
   "execution_count": 64,
   "metadata": {},
   "outputs": [],
   "source": [
    "# importing the numpy library\n",
    "import numpy as np \n",
    "import matplotlib.pyplot as plt\n",
    "import pandas as pd \n",
    "from sklearn.preprocessing  import  StandardScaler\n",
    "from sklearn.model_selection import  train_test_split\n",
    "from   sklearn.metrics import accuracy_score\n"
   ]
  },
  {
   "cell_type": "code",
   "execution_count": 65,
   "metadata": {},
   "outputs": [],
   "source": [
    "class Logistic_Regression():\n",
    "\n",
    "\n",
    "  # declaring learning rate & number of iterations (Hyperparametes)\n",
    "  def __init__(self, learning_rate, no_of_iterations):\n",
    "\n",
    "    self.learning_rate = learning_rate\n",
    "    self.no_of_iterations = no_of_iterations\n",
    "\n",
    "\n",
    "\n",
    "  # fit function to train the model with dataset\n",
    "  def fit(self, X, Y):\n",
    "\n",
    "    # number of data points in the dataset (number of rows)  -->  m\n",
    "    # number of input features in the dataset (number of columns)  --> n\n",
    "    self.m, self.n = X.shape\n",
    "\n",
    "\n",
    "    #initiating weight & bias value\n",
    "\n",
    "    self.w = np.zeros(self.n)\n",
    "    \n",
    "    self.b = 0\n",
    "\n",
    "    self.X = X\n",
    "\n",
    "    self.Y = Y\n",
    "\n",
    "\n",
    "    # implementing Gradient Descent for Optimization\n",
    "\n",
    "    for i in range(self.no_of_iterations):\n",
    "      self.update_weights()\n",
    "\n",
    "\n",
    "\n",
    "  def update_weights(self):\n",
    "\n",
    "    # Y_hat formula (sigmoid function)\n",
    "\n",
    "    Y_hat = 1 / (1 + np.exp( - (self.X.dot(self.w) + self.b ) ))    \n",
    "\n",
    "\n",
    "    # derivaties\n",
    "\n",
    "    dw = (1/self.m)*np.dot(self.X.T, (Y_hat - self.Y))\n",
    "\n",
    "    db = (1/self.m)*np.sum(Y_hat - self.Y)\n",
    "\n",
    "\n",
    "    # updating the weights & bias using gradient descent\n",
    "\n",
    "    self.w = self.w - self.learning_rate * dw\n",
    "\n",
    "    self.b = self.b - self.learning_rate * db\n",
    "\n",
    "\n",
    "  # Sigmoid Equation & Decision Boundary\n",
    "\n",
    "  def predict(self, X):\n",
    "\n",
    "    Y_pred = 1 / (1 + np.exp( - (X.dot(self.w) + self.b ) )) \n",
    "    Y_pred = np.where( Y_pred > 0.5, 1, 0)\n",
    "    return Y_pred"
   ]
  },
  {
   "cell_type": "markdown",
   "metadata": {},
   "source": []
  },
  {
   "cell_type": "code",
   "execution_count": 66,
   "metadata": {},
   "outputs": [],
   "source": [
    "# when values are not in the same range we have to scale the values  e.g some in 10 and 100 and some are in decimal \n",
    "scalar = StandardScaler()"
   ]
  },
  {
   "cell_type": "code",
   "execution_count": 67,
   "metadata": {},
   "outputs": [],
   "source": [
    "scalar.fit (features)\n",
    "\n",
    "standard_data = scalar.transform(features)\n"
   ]
  },
  {
   "cell_type": "code",
   "execution_count": 68,
   "metadata": {},
   "outputs": [
    {
     "data": {
      "text/plain": [
       "array([[ 0.63994726,  0.84832379,  0.14964075, ...,  0.20401277,\n",
       "         0.46849198,  1.4259954 ],\n",
       "       [-0.84488505, -1.12339636, -0.16054575, ..., -0.68442195,\n",
       "        -0.36506078, -0.19067191],\n",
       "       [ 1.23388019,  1.94372388, -0.26394125, ..., -1.10325546,\n",
       "         0.60439732, -0.10558415],\n",
       "       ...,\n",
       "       [ 0.3429808 ,  0.00330087,  0.14964075, ..., -0.73518964,\n",
       "        -0.68519336, -0.27575966],\n",
       "       [-0.84488505,  0.1597866 , -0.47073225, ..., -0.24020459,\n",
       "        -0.37110101,  1.17073215],\n",
       "       [-0.84488505, -0.8730192 ,  0.04624525, ..., -0.20212881,\n",
       "        -0.47378505, -0.87137393]], shape=(768, 8))"
      ]
     },
     "execution_count": 68,
     "metadata": {},
     "output_type": "execute_result"
    }
   ],
   "source": [
    "features = standard_data\n",
    "features"
   ]
  },
  {
   "cell_type": "markdown",
   "metadata": {},
   "source": [
    "**Train and Test Split**"
   ]
  },
  {
   "cell_type": "code",
   "execution_count": 69,
   "metadata": {},
   "outputs": [],
   "source": [
    "X_train , X_test , Y_train , Y_test = train_test_split(features, target , test_size= 0.2 , random_state=2  )"
   ]
  },
  {
   "cell_type": "code",
   "execution_count": 70,
   "metadata": {},
   "outputs": [],
   "source": [
    "trained_data = Logistic_Regression(learning_rate = 0.01 , no_of_iterations = 1000)"
   ]
  },
  {
   "cell_type": "code",
   "execution_count": 71,
   "metadata": {},
   "outputs": [],
   "source": [
    "trained_data.fit(X_train , Y_train)"
   ]
  }
 ],
 "metadata": {
  "kernelspec": {
   "display_name": "Python 3",
   "language": "python",
   "name": "python3"
  },
  "language_info": {
   "codemirror_mode": {
    "name": "ipython",
    "version": 3
   },
   "file_extension": ".py",
   "mimetype": "text/x-python",
   "name": "python",
   "nbconvert_exporter": "python",
   "pygments_lexer": "ipython3",
   "version": "3.12.1"
  }
 },
 "nbformat": 4,
 "nbformat_minor": 2
}
