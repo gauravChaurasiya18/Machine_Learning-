{
 "cells": [
  {
   "cell_type": "code",
   "execution_count": 2,
   "metadata": {},
   "outputs": [],
   "source": [
    "import numpy as np\n",
    "import pandas as pd \n"
   ]
  },
  {
   "cell_type": "code",
   "execution_count": 5,
   "metadata": {},
   "outputs": [],
   "source": [
    "class Lasso_Regression ():\n",
    "    def __init__ (self , learning_rate ,no_of_iterations , lambda_parameter):\n",
    "        self.learning_rate = learning_rate \n",
    "        self.no_of_iterations = no_of_iterations\n",
    "        self.lambda_parameter = lambda_parameter\n",
    "\n",
    "\n",
    "    def fit (self, X , Y):\n",
    "        self.m , self.n = X.shape\n",
    "        self.W = np.zeros(self.n)\n",
    "        self.b = 0  \n",
    "        self.X = X\n",
    "        self.Y = Y\n",
    "        for i in range(self.no_of_iterations):\n",
    "            self.update_weights()\n",
    "\n",
    "    def update_weights(self):\n",
    "        Y_pred = self.prefict (self.X)\n",
    "        dw = np.zeros(self.n)\n",
    "        db = 0\n",
    "        for i in range(self.n):\n",
    "              if self.W[i] > 0:\n",
    "\n",
    "                dw[i] = (-(2 * (self.X[:,i]).dot(self.Y - Y_pred)) + self.lambda_parameter) / self.m\n",
    "              else: \n",
    "                dw[i] = (-(2 * (self.X[:,i]).dot(self.Y - Y_pred)) - self.lambda_parameter) / self.m\n",
    "        db = -2 * np.sum(self.Y - Y_pred) / self.m\n",
    "        self.W = self.W - self.learning_rate * dw\n",
    "        self.b = self.b - self.learning_rate * db\n",
    "    def predict (self, X):\n",
    "         return X.dot(self.W) + self.b \n"
   ]
  },
  {
   "cell_type": "code",
   "execution_count": null,
   "metadata": {},
   "outputs": [],
   "source": []
  }
 ],
 "metadata": {
  "kernelspec": {
   "display_name": "Python 3",
   "language": "python",
   "name": "python3"
  },
  "language_info": {
   "codemirror_mode": {
    "name": "ipython",
    "version": 3
   },
   "file_extension": ".py",
   "mimetype": "text/x-python",
   "name": "python",
   "nbconvert_exporter": "python",
   "pygments_lexer": "ipython3",
   "version": "3.12.1"
  }
 },
 "nbformat": 4,
 "nbformat_minor": 2
}
